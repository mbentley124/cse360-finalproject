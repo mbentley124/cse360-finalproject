{
 "cells": [
  {
   "cell_type": "code",
   "execution_count": 1,
   "metadata": {},
   "outputs": [
    {
     "name": "stdout",
     "output_type": "stream",
     "text": [
      "Populating the interactive namespace from numpy and matplotlib\n"
     ]
    }
   ],
   "source": [
    "%pylab inline"
   ]
  },
  {
   "cell_type": "markdown",
   "metadata": {},
   "source": [
    "# Manage the robot and its sensor"
   ]
  },
  {
   "cell_type": "code",
   "execution_count": 2,
   "metadata": {},
   "outputs": [],
   "source": [
    "import sim\n",
    "\n",
    "class robot():\n",
    "    \n",
    "    def __init__(self, frame_name, motor_names=[], sensor_name=None, client_id=0):  \n",
    "        # If there is an existing connection\n",
    "        if client_id:\n",
    "            self.client_id = client_id\n",
    "        else:\n",
    "            self.client_id = self.open_connection()\n",
    "            \n",
    "        self.motors = self._get_handlers(motor_names)\n",
    "        if (sensor_name is not None):\n",
    "            self.sensor = self._get_handler(sensor_name)\n",
    "\n",
    "        self.reference = self._get_handler(\"Cuboid1\")\n",
    "        # Robot frame\n",
    "        self.frame = self._get_handler(frame_name)\n",
    "        \n",
    "    def open_connection(self):\n",
    "        sim.simxFinish(-1)  # just in case, close all opened connections\n",
    "        self.client_id = sim.simxStart('127.0.0.1', 19999, True, True, 5000, 5)  # Connect to CoppeliaSim \n",
    "        print(self.client_id)\n",
    "        if self.client_id != -1:\n",
    "            print('Robot connected')\n",
    "        else:\n",
    "            print('Connection failed')\n",
    "        return self.client_id\n",
    "        \n",
    "    def close_connection(self):    \n",
    "        sim.simxGetPingTime(self.client_id)  # Before closing the connection to CoppeliaSim, make sure that the last command sent out had time to arrive.\n",
    "        sim.simxFinish(self.client_id)  # Now close the connection to CoppeliaSim:\n",
    "        print('Connection closed')\n",
    "    \n",
    "    def isConnected(self):\n",
    "        c,result = sim.simxGetPingTime(self.client_id)\n",
    "        # Return true if the robot is connected\n",
    "        return result > 0\n",
    "        \n",
    "    def _get_handler(self, name):\n",
    "        err_code, handler = sim.simxGetObjectHandle(self.client_id, name, sim.simx_opmode_blocking)\n",
    "        return handler\n",
    "    \n",
    "    def _get_handlers(self, names):\n",
    "        handlers = []\n",
    "        for name in names:\n",
    "            handler = self._get_handler(name)\n",
    "            handlers.append(handler)\n",
    "        \n",
    "        return handlers\n",
    "\n",
    "    def send_motor_velocities(self, vels):\n",
    "        for motor, vel in zip(self.motors, vels):\n",
    "            err_code = sim.simxSetJointTargetVelocity(self.client_id, \n",
    "                                                      motor, vel, sim.simx_opmode_oneshot)\n",
    "            if (err_code != 0):\n",
    "                print(f\"ERROR SENDING MOTOR VELS {err_code}\")\n",
    "            \n",
    "    def set_position(self, position, relative_object=-1):\n",
    "        if relative_object != -1:\n",
    "            relative_object = self._get_handler(relative_object)        \n",
    "        sim.simxSetObjectPosition(self.client_id, self.frame, relative_object, position, sim.simx_opmode_streaming)\n",
    "        \n",
    "    def simtime(self):\n",
    "        return sim.simxGetLastCmdTime(self.client_id)\n",
    "    \n",
    "    def get_orientation(self):\n",
    "        err, orient = sim.simxGetObjectOrientation(self.client_id, self.frame, self.reference, sim.simx_opmode_oneshot)\n",
    "        return orient\n",
    "    \n",
    "    def get_position(self, relative_object=-1):\n",
    "        # Get position relative to an object, -1 for global frame\n",
    "        if relative_object != -1:\n",
    "            relative_object = self._get_handler(relative_object)\n",
    "        res, position = sim.simxGetObjectPosition(self.client_id, self.frame, relative_object, sim.simx_opmode_blocking)        \n",
    "        return array(position)\n",
    "    \n",
    "    def get_object_position(self, object_name):\n",
    "        # Get Object position in the world frame\n",
    "        err_code, object_h = sim.simxGetObjectHandle(self.client_id, object_name, sim.simx_opmode_blocking)\n",
    "        res, position = sim.simxGetObjectPosition(self.client_id, object_h, -1, sim.simx_opmode_blocking)\n",
    "        return array(position)\n",
    "    \n",
    "    def get_object_relative_position(self, object_name):        \n",
    "        # Get Object position in the robot frame\n",
    "        err_code, object_h = sim.simxGetObjectHandle(self.client_id, object_name, sim.simx_opmode_blocking)\n",
    "        res, position = sim.simxGetObjectPosition(self.client_id, object_h, self.frame, sim.simx_opmode_blocking)\n",
    "        return array(position)\n",
    "    \n",
    "    def read_sensor(self):\n",
    "        return sim.simxReadProximitySensor(self.client_id, self.sensor, sim.simx_opmode_streaming)"
   ]
  },
  {
   "cell_type": "code",
   "execution_count": 3,
   "metadata": {
    "tags": []
   },
   "outputs": [
    {
     "name": "stdout",
     "output_type": "stream",
     "text": [
      "0\n",
      "Robot connected\n"
     ]
    }
   ],
   "source": [
    "motor_names = ['Omnirob_FLwheel_motor', 'Omnirob_FRwheel_motor', 'Omnirob_RRwheel_motor', 'Omnirob_RLwheel_motor']\n",
    "r = robot('Omnirob', motor_names, 'Proximity_sensor')"
   ]
  },
  {
   "cell_type": "markdown",
   "metadata": {},
   "source": [
    "# Mapping the Enviroment"
   ]
  },
  {
   "cell_type": "markdown",
   "metadata": {},
   "source": [
    "### Enviroment discretization params"
   ]
  },
  {
   "cell_type": "code",
   "execution_count": 4,
   "metadata": {},
   "outputs": [],
   "source": [
    "# Overall map is 20x20 meters. Each cell is 0.4 meters, with the robot occupying about 3x2 cells. \n",
    "n = 50\n",
    "\n",
    "# 20 since 20x20 map size\n",
    "cell_w = 20/n\n",
    "\n",
    "# Any value above this for the log_odds attribute is viewed as blocked. \n",
    "blocked_min_val = 1"
   ]
  },
  {
   "cell_type": "code",
   "execution_count": 5,
   "metadata": {},
   "outputs": [],
   "source": [
    "# Computes the four points of the square that composes a cell\n",
    "def points_cell(x, y, d):    \n",
    "    X = [x, x+d, x+d, x]\n",
    "    Y = [y, y, y+d, y+d]\n",
    "    return X, Y\n",
    "\n",
    "# Plot a representation of the map of the world\n",
    "def plot_world(world, path=None):\n",
    "    fig = plt.figure(figsize=(10,10))\n",
    "    ax = fig.add_subplot(111, aspect='equal')\n",
    "\n",
    "    # normalize world mapping\n",
    "    normalized_log_odds = world['log_odds'] - np.amin(world['log_odds'])\n",
    "    max_diff = np.amax(normalized_log_odds)\n",
    "    if not max_diff == 0:\n",
    "        normalized_log_odds = normalized_log_odds / max_diff\n",
    "\n",
    "    # plot each cell\n",
    "    for c, x, y in zip(normalized_log_odds.flatten(), world['x'].flatten(), world['y'].flatten()):\n",
    "        X, Y = points_cell(x, y, cell_w)\n",
    "        cell = plt.Polygon([(xi, yi) for xi, yi in zip(X,Y)], color='%f'%(1-c ** 2))\n",
    "\n",
    "        ax.add_patch(cell)\n",
    "\n",
    "        plot(X,Y, 'midnightblue')\n",
    "#         plot(X,Y, 'b+')\n",
    "    if path is not None:\n",
    "        for map_loc in path:\n",
    "            plot(map_loc['x'] + cell_w / 2, map_loc['y'] + cell_w / 2, 'go')\n",
    "    fig.canvas.draw()"
   ]
  },
  {
   "cell_type": "markdown",
   "metadata": {},
   "source": [
    "### Setup initial mapping"
   ]
  },
  {
   "cell_type": "code",
   "execution_count": 6,
   "metadata": {},
   "outputs": [
    {
     "data": {
      "image/png": "[encoded data removed]",
      "text/plain": [
       "<Figure size 720x720 with 1 Axes>"
      ]
     },
     "metadata": {
      "needs_background": "light"
     },
     "output_type": "display_data"
    }
   ],
   "source": [
    "l0 = 0.3/(1-0.3)  # Initial belief\n",
    "# log_odds: odds theres an obstacle at the index\n",
    "# is_blocked: if the location is inaccessible (i.e. all places around it are blocked)\n",
    "# last_cleaned: timestamp of when the robot last \"cleaned\" (visited) the location\n",
    "# x: x position in CoppeliaSim units (meters I think?)\n",
    "# y: y position in CoppeliaSim units\n",
    "# visited: a value used to help with djikstras\n",
    "world_map = ones((n - 3, n - 3), dtype=[('log_odds', float),('is_blocked', bool), ('last_cleaned', int), ('x', float), ('y', float), ('visited', bool)])\n",
    "\n",
    "def reset_world_map():\n",
    "    world_map['log_odds'] = l0\n",
    "    world_map['is_blocked'] = False\n",
    "    world_map['last_cleaned'] = 0\n",
    "\n",
    "    # This prevents traversing the edge of the graph (since the robot may fall off)\n",
    "    grid_x, grid_y = np.mgrid[-10+2*cell_w:10-cell_w:cell_w,-10+2*cell_w:10-cell_w:cell_w]\n",
    "\n",
    "    world_map['x'] = grid_x\n",
    "    world_map['y'] = grid_y\n",
    "\n",
    "reset_world_map()\n",
    "    \n",
    "plot_world(world_map)"
   ]
  },
  {
   "cell_type": "markdown",
   "metadata": {},
   "source": [
    "# Navigate Through World"
   ]
  },
  {
   "cell_type": "markdown",
   "metadata": {},
   "source": [
    "### Find target cell"
   ]
  },
  {
   "cell_type": "code",
   "execution_count": 7,
   "metadata": {},
   "outputs": [],
   "source": [
    "def find_target():\n",
    "    # Can't visit a blocked cell\n",
    "    unblocked_map = world_map[world_map['is_blocked'] == False]\n",
    "    # Find locations where we aren't certain whether or there's an obstacle\n",
    "    unknown_map = unblocked_map[(unblocked_map['log_odds'] > 0) & (unblocked_map['log_odds'] < blocked_min_val)]\n",
    "    if (unknown_map.size > 0):\n",
    "        return unknown_map[np.argmin(unknown_map['log_odds'])]\n",
    "    return unblocked_map[np.argmin(unblocked_map['last_cleaned'])]"
   ]
  },
  {
   "cell_type": "markdown",
   "metadata": {},
   "source": [
    "### Get Robots Current Cell"
   ]
  },
  {
   "cell_type": "code",
   "execution_count": 8,
   "metadata": {},
   "outputs": [],
   "source": [
    "def get_rob_cell_pos():\n",
    "    pos = r.get_position()\n",
    "    # Not super intuative math\n",
    "    x = round(pos[0] / cell_w) * cell_w\n",
    "    y = round(pos[1] / cell_w) * cell_w\n",
    "    return x, y"
   ]
  },
  {
   "cell_type": "markdown",
   "metadata": {},
   "source": [
    "### Get world_map value from coppeliaSim x, y value"
   ]
  },
  {
   "cell_type": "code",
   "execution_count": 9,
   "metadata": {},
   "outputs": [],
   "source": [
    "def get_world_map_val(x, y):\n",
    "    x_index = round(x / cell_w + 10 / cell_w) - 2\n",
    "    y_index = round(y / cell_w + 10 / cell_w) - 2\n",
    "    if (x_index >= (n - 3) or y_index >= (n - 3) or x_index < 0 or y_index < 0):\n",
    "        return None\n",
    "    return world_map[x_index][y_index]"
   ]
  },
  {
   "cell_type": "markdown",
   "metadata": {},
   "source": [
    "### Get the corresponding robot world_map cell"
   ]
  },
  {
   "cell_type": "code",
   "execution_count": 10,
   "metadata": {},
   "outputs": [],
   "source": [
    "def get_rob_world_map():\n",
    "    x, y = get_rob_cell_pos()\n",
    "    x_index = round(x / cell_w + 10 / cell_w) - 2\n",
    "    y_index = round(y / cell_w + 10 / cell_w) - 2\n",
    "    if x_index >= (n - 3):\n",
    "        x_index = n - 3\n",
    "    elif x_index < 0:\n",
    "        x_index = 0\n",
    "    if y_index >= (n - 3):\n",
    "        y_index = n - 3\n",
    "    elif y_index < 0:\n",
    "        y_index = 0\n",
    "    return world_map[x_index][y_index]"
   ]
  },
  {
   "cell_type": "markdown",
   "metadata": {},
   "source": [
    "### Find directions to target"
   ]
  },
  {
   "cell_type": "code",
   "execution_count": 11,
   "metadata": {
    "scrolled": true
   },
   "outputs": [
    {
     "name": "stdout",
     "output_type": "stream",
     "text": [
      "going from (0.42857143, False, 0, 7.6, 8.4, False) to (0.42857143, False, 0, -9.2, -9.2, False)\n"
     ]
    },
    {
     "data": {
      "image/png": "[encoded data removed]",
      "text/plain": [
       "<Figure size 720x720 with 1 Axes>"
      ]
     },
     "metadata": {
      "needs_background": "light"
     },
     "output_type": "display_data"
    }
   ],
   "source": [
    "from queue import PriorityQueue\n",
    "\n",
    "class QueueEntry(object):\n",
    "\n",
    "    def __init__(self, net_weight, pos, path):\n",
    "        self.net_weight = net_weight\n",
    "        self.pos = pos\n",
    "        self.path = path\n",
    "\n",
    "    def __lt__(self, other):\n",
    "        return self.net_weight < other.net_weight\n",
    "\n",
    "def directions_to_target():\n",
    "    world_map['visited'] = False\n",
    "    current_pos = get_rob_world_map()\n",
    "    target_pos = find_target()\n",
    "    print(f\"going from {current_pos} to {target_pos}\")\n",
    "    \n",
    "    queue = PriorityQueue()\n",
    "    path = []\n",
    "    net_weight = 0\n",
    "    \n",
    "    queue.put(QueueEntry(net_weight, current_pos, path))\n",
    "    current_pos['visited'] = True\n",
    "    def add_vertex(x, y):\n",
    "        next_map_val = get_world_map_val(x, y)\n",
    "        if (next_map_val == None or next_map_val['visited']):\n",
    "            return False\n",
    "        if (next_map_val['x'] == target_pos['x'] and next_map_val['y'] == target_pos['y']):\n",
    "            return True\n",
    "        if next_map_val['log_odds'] > blocked_min_val:\n",
    "            return False\n",
    "        if next_map_val['is_blocked']:\n",
    "            print(f\"Blocked vertex is not blocked: {next_map_val}\")\n",
    "            next_map_val['is_blocked'] = False\n",
    "        path_copy = path.copy()\n",
    "        path_copy.append(next_map_val)\n",
    "        next_map_val['visited'] = True\n",
    "        queue.put(QueueEntry(net_weight + next_map_val['last_cleaned'], next_map_val, path_copy))\n",
    "        \n",
    "              \n",
    "    \n",
    "    while not queue.empty():\n",
    "        queue_entry = queue.get()\n",
    "        net_weight = queue_entry.net_weight\n",
    "        map_pos = queue_entry.pos\n",
    "        path = queue_entry.path\n",
    "        x = map_pos['x']\n",
    "        y = map_pos['y']\n",
    "        \n",
    "        if (add_vertex(x + cell_w, y) or add_vertex(x, y + cell_w) or \n",
    "            add_vertex(x - cell_w, y) or add_vertex(x, y - cell_w)):\n",
    "            path.append(target_pos)\n",
    "            return path\n",
    "    # Unable to find directions to target (must be blocked!)\n",
    "    get_world_map_val(target_pos['x'], target_pos['y'])['is_blocked'] = True\n",
    "#     print(target_pos)\n",
    "    return directions_to_target()\n",
    "path = directions_to_target()\n",
    "plot_world(world_map, path)"
   ]
  },
  {
   "cell_type": "markdown",
   "metadata": {},
   "source": [
    "### Get robot orientation"
   ]
  },
  {
   "cell_type": "code",
   "execution_count": 12,
   "metadata": {},
   "outputs": [],
   "source": [
    "def robot_direction():\n",
    "    rot = r.get_orientation()[2]\n",
    "    if (rot <= pi / 4 and rot > -pi / 4):\n",
    "        return \"-y\"\n",
    "    elif (rot <= 3 * pi / 4 and rot > pi / 4):\n",
    "        return \"+x\"\n",
    "    elif (rot >= 3 * pi / 4 or rot <= -3 * pi / 4):\n",
    "        return \"+y\"\n",
    "    else:\n",
    "        return \"-x\""
   ]
  },
  {
   "cell_type": "markdown",
   "metadata": {},
   "source": [
    "### Get the vertexes contained within the robot's current position"
   ]
  },
  {
   "cell_type": "code",
   "execution_count": 13,
   "metadata": {},
   "outputs": [],
   "source": [
    "def robot_occupied_mappings():\n",
    "    x, y = get_rob_cell_pos()\n",
    "    occupied_cells = [get_world_map_val(x, y)]\n",
    "    \n",
    "#     if \"x\" in robot_direction():\n",
    "#         # Facing X orientation\n",
    "#         occupied_cells.append(get_world_map_val(x + cell_w, y))\n",
    "#         occupied_cells.append(get_world_map_val(x - cell_w, y))\n",
    "#     else:\n",
    "#         # Facing Y orientation\n",
    "#         occupied_cells.append(get_world_map_val(x, y + cell_w))\n",
    "#         occupied_cells.append(get_world_map_val(x, y - cell_w))\n",
    "    occupied_cells = filter(lambda x: x is not None, occupied_cells)\n",
    "    return occupied_cells"
   ]
  },
  {
   "cell_type": "markdown",
   "metadata": {},
   "source": [
    "### Update surroundings"
   ]
  },
  {
   "cell_type": "code",
   "execution_count": 14,
   "metadata": {},
   "outputs": [],
   "source": [
    "import time\n",
    "\n",
    "# Returns true if there was a substantive change to the map (meaning the directions have to be recalculated)\n",
    "def update_surroundings():\n",
    "    current_time = int(round(time.time() * 1000))\n",
    "    for occupied_mapping in robot_occupied_mappings():\n",
    "        occupied_mapping['last_cleaned'] = current_time\n",
    "        po = 0.1\n",
    "        occupied_mapping['log_odds'] = log(po / (1-po)) + occupied_mapping['log_odds'] - l0\n",
    "    err, found, _, _, _ = r.read_sensor()\n",
    "#     sensor_mapping\n",
    "    x, y = get_rob_cell_pos()\n",
    "    rob_dir = robot_direction()\n",
    "#     multiplier\n",
    "    if \"-\" in rob_dir:\n",
    "        multiplier = -1\n",
    "    else:\n",
    "        multiplier = 1\n",
    "    if \"x\" in rob_dir:\n",
    "        sensor_mapping = get_world_map_val(x + multiplier * cell_w, y)\n",
    "    else:\n",
    "        sensor_mapping = get_world_map_val(x, y + multiplier * cell_w)\n",
    "    if sensor_mapping is not None:\n",
    "        if found:\n",
    "            po = 0.90 # Probability of obstacle\n",
    "            done = False\n",
    "            if (sensor_mapping['log_odds'] < blocked_min_val):\n",
    "                done = True\n",
    "            sensor_mapping['log_odds'] = log(po / (1-po)) + sensor_mapping['log_odds'] - l0\n",
    "            if done:\n",
    "                print(\"BREAK!\")\n",
    "                return True\n",
    "        else:\n",
    "            po = 0.2\n",
    "            sensor_mapping['log_odds'] = log(po / (1-po)) + sensor_mapping['log_odds'] - l0\n",
    "            # Doesn't really matter if something was marked as blocked, but really isn't (it'll just deal with it during the next search)"
   ]
  },
  {
   "cell_type": "markdown",
   "metadata": {},
   "source": [
    "### Navigate through surroundings"
   ]
  },
  {
   "cell_type": "code",
   "execution_count": 15,
   "metadata": {},
   "outputs": [],
   "source": [
    "def compute_dist(p1, p2):\n",
    "    x_diff = p1[0] - p2[0]\n",
    "    y_diff = p1[1] - p2[1]\n",
    "    sign = 1\n",
    "    rob_dir = robot_direction()\n",
    "    if \"x\" in rob_dir:\n",
    "        if x_diff < 0:\n",
    "            sign = -1\n",
    "    else:\n",
    "        if y_diff < 0:\n",
    "            sign = -1\n",
    "    if \"-\" not in rob_dir:\n",
    "        sign = -sign\n",
    "    return sign * sqrt(x_diff ** 2 + y_diff ** 2)\n",
    "\n",
    "def traj(tf, desired_pos):\n",
    "    global starting_pos\n",
    "    \n",
    "    rob_dir = robot_direction()\n",
    "    \n",
    "    start_time = time.time()\n",
    "    # Time interval\n",
    "    time_step = 0.05\n",
    "    time_steps = linspace(0, tf, round(tf / time_step))\n",
    "\n",
    "    a1 = (desired_pos - starting_pos) / tf\n",
    "    a0 = starting_pos\n",
    "    robot_position = r.get_position()\n",
    "        \n",
    "    for t in time_steps:\n",
    "        point_traj = a1 * t + a0\n",
    "\n",
    "        # Sensing\n",
    "        robot_position = r.get_position()\n",
    "        orient = pi - r.get_orientation()[2]\n",
    "        disk.set_position(point_traj)\n",
    "\n",
    "        # Trajectory tracker\n",
    "        vx = 0\n",
    "        vy = -20 * compute_dist(robot_position, point_traj)\n",
    "        \n",
    "        r.send_motor_velocities([-vy - vx, vy - vx, vy + vx, -vy + vx])\n",
    "        tim = time.time()\n",
    "        if (tim - start_time < (t + time_step)):\n",
    "            time.sleep((t + time_step) - (tim - start_time))\n",
    "    starting_pos = desired_pos\n",
    "    \n",
    "def rotate_to_angle(desired):\n",
    "    orient = r.get_orientation()\n",
    "    while abs(orient[2] - desired) > 0.05:\n",
    "        rot_speed = (orient[2] - desired) * 4\n",
    "        r.send_motor_velocities([rot_speed, rot_speed, rot_speed, rot_speed])\n",
    "        time.sleep(0.02)\n",
    "        orient = r.get_orientation()"
   ]
  },
  {
   "cell_type": "markdown",
   "metadata": {},
   "source": [
    "# Do the navigation!"
   ]
  },
  {
   "cell_type": "markdown",
   "metadata": {},
   "source": [
    "### Reset Map?"
   ]
  },
  {
   "cell_type": "code",
   "execution_count": 16,
   "metadata": {},
   "outputs": [],
   "source": [
    "reset_world_map()"
   ]
  },
  {
   "cell_type": "markdown",
   "metadata": {},
   "source": [
    "### Traverse Map"
   ]
  },
  {
   "cell_type": "code",
   "execution_count": 17,
   "metadata": {},
   "outputs": [
    {
     "name": "stdout",
     "output_type": "stream",
     "text": [
      "0\n",
      "Robot connected\n",
      "0\n",
      "Robot connected\n",
      "ERROR SENDING MOTOR VELS 1\n",
      "ERROR SENDING MOTOR VELS 1\n",
      "ERROR SENDING MOTOR VELS 1\n",
      "ERROR SENDING MOTOR VELS 1\n",
      "going from (0.42857143, False, 0, 7.6, 8.4, False) to (0.42857143, False, 0, -9.2, -9.2, False)\n",
      "BREAK!\n",
      "surroundings updated\n",
      "going from (-5.82695616, False, 1608163772384, 6.4, 6., False) to (0.42857143, False, 0, -9.2, -9.2, False)\n",
      "BREAK!\n",
      "surroundings updated\n",
      "going from (-8.45275216, False, 1608163778186, 5.6, 6., False) to (0.42857143, False, 0, -9.2, -9.2, False)\n",
      "BREAK!\n",
      "surroundings updated\n",
      "going from (-8.45275216, False, 1608163782965, 5.2, 6., False) to (0.42857143, False, 0, -9.2, -9.2, False)\n",
      "BREAK!\n",
      "surroundings updated\n",
      "going from (-5.82695616, False, 1608163803807, 4., 2., False) to (0.42857143, False, 0, -9.2, -9.2, False)\n",
      "BREAK!\n",
      "surroundings updated\n",
      "going from (-4.01209037, False, 1608163809521, 3.2, 1.6, False) to (0.42857143, False, 0, -9.2, -9.2, False)\n",
      "BREAK!\n",
      "surroundings updated\n",
      "going from (-9.26368238, False, 1608163811542, 3.2, 1.6, False) to (0.42857143, False, 0, -9.2, -9.2, False)\n",
      "BREAK!\n",
      "surroundings updated\n",
      "going from (-14.51527439, False, 1608163814244, 3.2, 1.6, False) to (0.42857143, False, 0, -9.2, -9.2, False)\n",
      "BREAK!\n",
      "surroundings updated\n",
      "going from (-5.82695616, False, 1608163820261, 2.8, 2., False) to (0.42857143, False, 0, -9.2, -9.2, False)\n",
      "BREAK!\n",
      "surroundings updated\n",
      "going from (-8.45275216, False, 1608163828062, 1.6, 2.4, False) to (0.42857143, False, 0, -9.2, -9.2, False)\n",
      "BREAK!\n",
      "surroundings updated\n",
      "going from (-4.01209037, False, 1608163831314, 1.6, 2.8, False) to (0.42857143, False, 0, -9.2, -9.2, False)\n",
      "BREAK!\n",
      "surroundings updated\n",
      "going from (-4.01209037, False, 1608163837027, 0.8, 2.4, False) to (0.42857143, False, 0, -9.2, -9.2, False)\n",
      "BREAK!\n",
      "surroundings updated\n",
      "going from (-8.45275216, False, 1608163841358, 1.2, 2.4, False) to (0.42857143, False, 0, -9.2, -9.2, False)\n",
      "BREAK!\n",
      "surroundings updated\n",
      "going from (-5.82695616, False, 1608163860163, -1.6, 3.2, False) to (0.42857143, False, 0, -9.2, -9.2, False)\n",
      "BREAK!\n",
      "surroundings updated\n",
      "going from (-8.45275216, False, 1608163866174, -2.4, 3.2, False) to (0.42857143, False, 0, -9.2, -9.2, False)\n",
      "BREAK!\n",
      "surroundings updated\n",
      "going from (-8.45275216, False, 1608163871692, -2.8, 3.2, False) to (0.42857143, False, 0, -9.2, -9.2, False)\n",
      "BREAK!\n",
      "surroundings updated\n",
      "going from (-4.01209037, False, 1608163887709, -4., 4.4, False) to (0.42857143, False, 0, -9.2, -9.2, False)\n",
      "BREAK!\n",
      "surroundings updated\n",
      "going from (-4.01209037, False, 1608163895838, -4.8, 5.2, False) to (0.42857143, False, 0, -9.2, -9.2, False)\n",
      "BREAK!\n",
      "surroundings updated\n",
      "going from (0.38235879, False, 0, -5.6, 4.8, False) to (0.38235879, False, 0, -5.6, 4.8, False)\n",
      "going from (0.38235879, True, 0, -5.6, 4.8, False) to (0.42857143, False, 0, -9.2, -9.2, False)\n",
      "BREAK!\n",
      "surroundings updated\n",
      "going from (-2.24343722, True, 1608163904778, -5.6, 4.8, False) to (0.42857143, False, 0, -9.2, -9.2, False)\n",
      "BREAK!\n",
      "surroundings updated\n",
      "going from (-7.64182195, False, 1608163912908, -5.2, 4.8, False) to (0.42857143, False, 0, -9.2, -9.2, False)\n",
      "Blocked vertex is not blocked: (-10.12082524, True, 1608163909512, -5.6, 4.8, False)\n",
      "BREAK!\n",
      "surroundings updated\n",
      "going from (-15.51920996, False, 1608163918839, -4.8, 4.8, False) to (0.42857143, False, 0, -9.2, -9.2, False)\n",
      "BREAK!\n",
      "surroundings updated\n",
      "going from (-15.51920996, False, 1608163925208, -4.4, 4.8, False) to (0.42857143, False, 0, -9.2, -9.2, False)\n",
      "BREAK!\n",
      "surroundings updated\n",
      "going from (-6.63788637, False, 1608163941460, -3.6, 6.4, False) to (0.42857143, False, 0, -9.2, -9.2, False)\n",
      "BREAK!\n",
      "surroundings updated\n",
      "going from (-5.82695616, False, 1608163972534, -8., 7.6, False) to (0.38235879, False, 0, -4., 6.4, False)\n",
      "BREAK!\n",
      "surroundings updated\n",
      "going from (-8.45275216, False, 1608163978641, -6.8, 7.6, False) to (0.38235879, False, 0, -4., 6.4, False)\n",
      "BREAK!\n",
      "surroundings updated\n",
      "going from (-8.45275216, False, 1608163985322, -5.6, 7.6, False) to (0.38235879, False, 0, -4., 6.4, False)\n",
      "BREAK!\n",
      "surroundings updated\n",
      "going from (-6.63788637, False, 1608163994231, -4.4, 7.6, False) to (0.38235879, False, 0, -4., 6.4, False)\n",
      "going from (-1.432507, False, 0, -4., 6.4, False) to (0.42857143, False, 0, -9.2, -9.2, False)\n",
      "BREAK!\n",
      "surroundings updated\n",
      "going from (-6.68409901, False, 1608164007288, -4., 6.4, False) to (0.42857143, False, 0, -9.2, -9.2, False)\n",
      "BREAK!\n",
      "surroundings updated\n",
      "going from (-10.26761795, False, 1608164012208, -4., 6., False) to (0.42857143, False, 0, -9.2, -9.2, False)\n"
     ]
    },
    {
     "ename": "KeyboardInterrupt",
     "evalue": "",
     "output_type": "error",
     "traceback": [
      "\u001b[0;31m---------------------------------------------------------------------------\u001b[0m",
      "\u001b[0;31mKeyboardInterrupt\u001b[0m                         Traceback (most recent call last)",
      "\u001b[0;32m<ipython-input-17-a1c1b8fcb11d>\u001b[0m in \u001b[0;36m<module>\u001b[0;34m\u001b[0m\n\u001b[1;32m     26\u001b[0m                 \u001b[0mtarget_orient\u001b[0m \u001b[0;34m=\u001b[0m \u001b[0;34m-\u001b[0m\u001b[0mpi\u001b[0m\u001b[0;34m\u001b[0m\u001b[0;34m\u001b[0m\u001b[0m\n\u001b[1;32m     27\u001b[0m         \u001b[0mrotate_to_angle\u001b[0m\u001b[0;34m(\u001b[0m\u001b[0mtarget_orient\u001b[0m\u001b[0;34m)\u001b[0m\u001b[0;34m\u001b[0m\u001b[0;34m\u001b[0m\u001b[0m\n\u001b[0;32m---> 28\u001b[0;31m         \u001b[0;32mif\u001b[0m \u001b[0;34m(\u001b[0m\u001b[0mupdate_surroundings\u001b[0m\u001b[0;34m(\u001b[0m\u001b[0;34m)\u001b[0m\u001b[0;34m)\u001b[0m\u001b[0;34m:\u001b[0m\u001b[0;34m\u001b[0m\u001b[0;34m\u001b[0m\u001b[0m\n\u001b[0m\u001b[1;32m     29\u001b[0m             \u001b[0mprint\u001b[0m\u001b[0;34m(\u001b[0m\u001b[0;34m\"surroundings updated\"\u001b[0m\u001b[0;34m)\u001b[0m\u001b[0;34m\u001b[0m\u001b[0;34m\u001b[0m\u001b[0m\n\u001b[1;32m     30\u001b[0m             \u001b[0;32mbreak\u001b[0m\u001b[0;34m\u001b[0m\u001b[0;34m\u001b[0m\u001b[0m\n",
      "\u001b[0;32m<ipython-input-14-de8fe0a10faf>\u001b[0m in \u001b[0;36mupdate_surroundings\u001b[0;34m()\u001b[0m\n\u001b[1;32m     10\u001b[0m     \u001b[0merr\u001b[0m\u001b[0;34m,\u001b[0m \u001b[0mfound\u001b[0m\u001b[0;34m,\u001b[0m \u001b[0m_\u001b[0m\u001b[0;34m,\u001b[0m \u001b[0m_\u001b[0m\u001b[0;34m,\u001b[0m \u001b[0m_\u001b[0m \u001b[0;34m=\u001b[0m \u001b[0mr\u001b[0m\u001b[0;34m.\u001b[0m\u001b[0mread_sensor\u001b[0m\u001b[0;34m(\u001b[0m\u001b[0;34m)\u001b[0m\u001b[0;34m\u001b[0m\u001b[0;34m\u001b[0m\u001b[0m\n\u001b[1;32m     11\u001b[0m \u001b[0;31m#     sensor_mapping\u001b[0m\u001b[0;34m\u001b[0m\u001b[0;34m\u001b[0m\u001b[0;34m\u001b[0m\u001b[0m\n\u001b[0;32m---> 12\u001b[0;31m     \u001b[0mx\u001b[0m\u001b[0;34m,\u001b[0m \u001b[0my\u001b[0m \u001b[0;34m=\u001b[0m \u001b[0mget_rob_cell_pos\u001b[0m\u001b[0;34m(\u001b[0m\u001b[0;34m)\u001b[0m\u001b[0;34m\u001b[0m\u001b[0;34m\u001b[0m\u001b[0m\n\u001b[0m\u001b[1;32m     13\u001b[0m     \u001b[0mrob_dir\u001b[0m \u001b[0;34m=\u001b[0m \u001b[0mrobot_direction\u001b[0m\u001b[0;34m(\u001b[0m\u001b[0;34m)\u001b[0m\u001b[0;34m\u001b[0m\u001b[0;34m\u001b[0m\u001b[0m\n\u001b[1;32m     14\u001b[0m \u001b[0;31m#     multiplier\u001b[0m\u001b[0;34m\u001b[0m\u001b[0;34m\u001b[0m\u001b[0;34m\u001b[0m\u001b[0m\n",
      "\u001b[0;32m<ipython-input-8-040e919c003b>\u001b[0m in \u001b[0;36mget_rob_cell_pos\u001b[0;34m()\u001b[0m\n\u001b[1;32m      1\u001b[0m \u001b[0;32mdef\u001b[0m \u001b[0mget_rob_cell_pos\u001b[0m\u001b[0;34m(\u001b[0m\u001b[0;34m)\u001b[0m\u001b[0;34m:\u001b[0m\u001b[0;34m\u001b[0m\u001b[0;34m\u001b[0m\u001b[0m\n\u001b[0;32m----> 2\u001b[0;31m     \u001b[0mpos\u001b[0m \u001b[0;34m=\u001b[0m \u001b[0mr\u001b[0m\u001b[0;34m.\u001b[0m\u001b[0mget_position\u001b[0m\u001b[0;34m(\u001b[0m\u001b[0;34m)\u001b[0m\u001b[0;34m\u001b[0m\u001b[0;34m\u001b[0m\u001b[0m\n\u001b[0m\u001b[1;32m      3\u001b[0m     \u001b[0;31m# Not super intuative math\u001b[0m\u001b[0;34m\u001b[0m\u001b[0;34m\u001b[0m\u001b[0;34m\u001b[0m\u001b[0m\n\u001b[1;32m      4\u001b[0m     \u001b[0mx\u001b[0m \u001b[0;34m=\u001b[0m \u001b[0mround\u001b[0m\u001b[0;34m(\u001b[0m\u001b[0mpos\u001b[0m\u001b[0;34m[\u001b[0m\u001b[0;36m0\u001b[0m\u001b[0;34m]\u001b[0m \u001b[0;34m/\u001b[0m \u001b[0mcell_w\u001b[0m\u001b[0;34m)\u001b[0m \u001b[0;34m*\u001b[0m \u001b[0mcell_w\u001b[0m\u001b[0;34m\u001b[0m\u001b[0;34m\u001b[0m\u001b[0m\n\u001b[1;32m      5\u001b[0m     \u001b[0my\u001b[0m \u001b[0;34m=\u001b[0m \u001b[0mround\u001b[0m\u001b[0;34m(\u001b[0m\u001b[0mpos\u001b[0m\u001b[0;34m[\u001b[0m\u001b[0;36m1\u001b[0m\u001b[0;34m]\u001b[0m \u001b[0;34m/\u001b[0m \u001b[0mcell_w\u001b[0m\u001b[0;34m)\u001b[0m \u001b[0;34m*\u001b[0m \u001b[0mcell_w\u001b[0m\u001b[0;34m\u001b[0m\u001b[0;34m\u001b[0m\u001b[0m\n",
      "\u001b[0;32m<ipython-input-2-76f1c205e9d8>\u001b[0m in \u001b[0;36mget_position\u001b[0;34m(self, relative_object)\u001b[0m\n\u001b[1;32m     73\u001b[0m         \u001b[0;32mif\u001b[0m \u001b[0mrelative_object\u001b[0m \u001b[0;34m!=\u001b[0m \u001b[0;34m-\u001b[0m\u001b[0;36m1\u001b[0m\u001b[0;34m:\u001b[0m\u001b[0;34m\u001b[0m\u001b[0;34m\u001b[0m\u001b[0m\n\u001b[1;32m     74\u001b[0m             \u001b[0mrelative_object\u001b[0m \u001b[0;34m=\u001b[0m \u001b[0mself\u001b[0m\u001b[0;34m.\u001b[0m\u001b[0m_get_handler\u001b[0m\u001b[0;34m(\u001b[0m\u001b[0mrelative_object\u001b[0m\u001b[0;34m)\u001b[0m\u001b[0;34m\u001b[0m\u001b[0;34m\u001b[0m\u001b[0m\n\u001b[0;32m---> 75\u001b[0;31m         \u001b[0mres\u001b[0m\u001b[0;34m,\u001b[0m \u001b[0mposition\u001b[0m \u001b[0;34m=\u001b[0m \u001b[0msim\u001b[0m\u001b[0;34m.\u001b[0m\u001b[0msimxGetObjectPosition\u001b[0m\u001b[0;34m(\u001b[0m\u001b[0mself\u001b[0m\u001b[0;34m.\u001b[0m\u001b[0mclient_id\u001b[0m\u001b[0;34m,\u001b[0m \u001b[0mself\u001b[0m\u001b[0;34m.\u001b[0m\u001b[0mframe\u001b[0m\u001b[0;34m,\u001b[0m \u001b[0mrelative_object\u001b[0m\u001b[0;34m,\u001b[0m \u001b[0msim\u001b[0m\u001b[0;34m.\u001b[0m\u001b[0msimx_opmode_blocking\u001b[0m\u001b[0;34m)\u001b[0m\u001b[0;34m\u001b[0m\u001b[0;34m\u001b[0m\u001b[0m\n\u001b[0m\u001b[1;32m     76\u001b[0m         \u001b[0;32mreturn\u001b[0m \u001b[0marray\u001b[0m\u001b[0;34m(\u001b[0m\u001b[0mposition\u001b[0m\u001b[0;34m)\u001b[0m\u001b[0;34m\u001b[0m\u001b[0;34m\u001b[0m\u001b[0m\n\u001b[1;32m     77\u001b[0m \u001b[0;34m\u001b[0m\u001b[0m\n",
      "\u001b[0;32m~/Documents/cse360/cse360-finalproject/sim.py\u001b[0m in \u001b[0;36msimxGetObjectPosition\u001b[0;34m(clientID, objectHandle, relativeToObjectHandle, operationMode)\u001b[0m\n\u001b[1;32m    555\u001b[0m     '''\n\u001b[1;32m    556\u001b[0m     \u001b[0mposition\u001b[0m \u001b[0;34m=\u001b[0m \u001b[0;34m(\u001b[0m\u001b[0mct\u001b[0m\u001b[0;34m.\u001b[0m\u001b[0mc_float\u001b[0m\u001b[0;34m*\u001b[0m\u001b[0;36m3\u001b[0m\u001b[0;34m)\u001b[0m\u001b[0;34m(\u001b[0m\u001b[0;34m)\u001b[0m\u001b[0;34m\u001b[0m\u001b[0;34m\u001b[0m\u001b[0m\n\u001b[0;32m--> 557\u001b[0;31m     \u001b[0mret\u001b[0m \u001b[0;34m=\u001b[0m \u001b[0mc_GetObjectPosition\u001b[0m\u001b[0;34m(\u001b[0m\u001b[0mclientID\u001b[0m\u001b[0;34m,\u001b[0m \u001b[0mobjectHandle\u001b[0m\u001b[0;34m,\u001b[0m \u001b[0mrelativeToObjectHandle\u001b[0m\u001b[0;34m,\u001b[0m \u001b[0mposition\u001b[0m\u001b[0;34m,\u001b[0m \u001b[0moperationMode\u001b[0m\u001b[0;34m)\u001b[0m\u001b[0;34m\u001b[0m\u001b[0;34m\u001b[0m\u001b[0m\n\u001b[0m\u001b[1;32m    558\u001b[0m     \u001b[0marr\u001b[0m \u001b[0;34m=\u001b[0m \u001b[0;34m[\u001b[0m\u001b[0;34m]\u001b[0m\u001b[0;34m\u001b[0m\u001b[0;34m\u001b[0m\u001b[0m\n\u001b[1;32m    559\u001b[0m     \u001b[0;32mfor\u001b[0m \u001b[0mi\u001b[0m \u001b[0;32min\u001b[0m \u001b[0mrange\u001b[0m\u001b[0;34m(\u001b[0m\u001b[0;36m3\u001b[0m\u001b[0;34m)\u001b[0m\u001b[0;34m:\u001b[0m\u001b[0;34m\u001b[0m\u001b[0;34m\u001b[0m\u001b[0m\n",
      "\u001b[0;31mKeyboardInterrupt\u001b[0m: "
     ]
    }
   ],
   "source": [
    "motor_names = ['Omnirob_FLwheel_motor', 'Omnirob_FRwheel_motor', 'Omnirob_RRwheel_motor', 'Omnirob_RLwheel_motor']\n",
    "r = robot('Omnirob', motor_names, 'Proximity_sensor')\n",
    "disk = robot('Disc', client_id=r.client_id)\n",
    "\n",
    "starting_pos = r.get_position()\n",
    "while True:\n",
    "    r.send_motor_velocities([0, 0, 0, 0])\n",
    "    path = directions_to_target()\n",
    "    for mapping in path:\n",
    "        if (update_surroundings()):\n",
    "            print(\"surroundings updated\")\n",
    "            break\n",
    "        x_diff = starting_pos[0] - mapping['x']\n",
    "        y_diff = starting_pos[1] - mapping['y']\n",
    "        if (abs(x_diff) > abs(y_diff)):\n",
    "            # Likely moving in x direction\n",
    "            if (x_diff > 0):\n",
    "                target_orient = -pi/2\n",
    "            else:\n",
    "                target_orient = pi/2\n",
    "        else:\n",
    "            if (y_diff > 0):\n",
    "                # Not great since -pi also works\n",
    "                target_orient = 0\n",
    "            else:\n",
    "                target_orient = -pi\n",
    "        rotate_to_angle(target_orient)\n",
    "        if (update_surroundings()):\n",
    "            print(\"surroundings updated\")\n",
    "            break\n",
    "        traj(0.5, array([mapping['x'], mapping['y'], 0.1]))\n",
    "r.send_motor_velocities([0, 0, 0, 0])"
   ]
  },
  {
   "cell_type": "code",
   "execution_count": 20,
   "metadata": {},
   "outputs": [
    {
     "name": "stdout",
     "output_type": "stream",
     "text": [
      "[[( 0.42857143, False, 0, -9.2, -9.2, False)\n",
      "  ( 0.42857143, False, 0, -9.2, -8.8,  True)\n",
      "  ( 0.42857143, False, 0, -9.2, -8.4,  True) ...\n",
      "  ( 0.42857143, False, 0, -9.2,  8.4, False)\n",
      "  ( 0.42857143, False, 0, -9.2,  8.8, False)\n",
      "  ( 0.42857143, False, 0, -9.2,  9.2, False)]\n",
      " [( 0.42857143, False, 0, -8.8, -9.2,  True)\n",
      "  ( 0.42857143, False, 0, -8.8, -8.8,  True)\n",
      "  ( 0.42857143, False, 0, -8.8, -8.4,  True) ...\n",
      "  ( 0.42857143, False, 0, -8.8,  8.4, False)\n",
      "  ( 0.42857143, False, 0, -8.8,  8.8, False)\n",
      "  ( 0.42857143, False, 0, -8.8,  9.2, False)]\n",
      " [( 0.42857143, False, 0, -8.4, -9.2,  True)\n",
      "  ( 0.42857143, False, 0, -8.4, -8.8,  True)\n",
      "  ( 0.42857143, False, 0, -8.4, -8.4,  True) ...\n",
      "  (-1.38629436, False, 0, -8.4,  8.4, False)\n",
      "  ( 0.42857143, False, 0, -8.4,  8.8, False)\n",
      "  ( 0.42857143, False, 0, -8.4,  9.2, False)]\n",
      " ...\n",
      " [( 0.42857143, False, 0,  8.4, -9.2,  True)\n",
      "  ( 0.42857143, False, 0,  8.4, -8.8,  True)\n",
      "  ( 0.42857143, False, 0,  8.4, -8.4,  True) ...\n",
      "  ( 0.42857143, False, 0,  8.4,  8.4,  True)\n",
      "  ( 0.42857143, False, 0,  8.4,  8.8,  True)\n",
      "  ( 0.42857143, False, 0,  8.4,  9.2,  True)]\n",
      " [( 0.42857143, False, 0,  8.8, -9.2,  True)\n",
      "  ( 0.42857143, False, 0,  8.8, -8.8,  True)\n",
      "  ( 0.42857143, False, 0,  8.8, -8.4,  True) ...\n",
      "  ( 0.42857143, False, 0,  8.8,  8.4,  True)\n",
      "  ( 0.42857143, False, 0,  8.8,  8.8,  True)\n",
      "  ( 0.42857143, False, 0,  8.8,  9.2,  True)]\n",
      " [( 0.42857143, False, 0,  9.2, -9.2,  True)\n",
      "  ( 0.42857143, False, 0,  9.2, -8.8,  True)\n",
      "  ( 0.42857143, False, 0,  9.2, -8.4,  True) ...\n",
      "  ( 0.42857143, False, 0,  9.2,  8.4,  True)\n",
      "  ( 0.42857143, False, 0,  9.2,  8.8,  True)\n",
      "  ( 0.42857143, False, 0,  9.2,  9.2,  True)]]\n"
     ]
    },
    {
     "data": {
      "image/png": "[encoded data removed]",
      "text/plain": [
       "<Figure size 720x720 with 1 Axes>"
      ]
     },
     "metadata": {
      "needs_background": "light"
     },
     "output_type": "display_data"
    }
   ],
   "source": [
    "print(world_map)\n",
    "plot_world(world_map)"
   ]
  }
 ],
 "metadata": {
  "kernelspec": {
   "display_name": "Python 3",
   "language": "python",
   "name": "python3"
  },
  "language_info": {
   "codemirror_mode": {
    "name": "ipython",
    "version": 3
   },
   "file_extension": ".py",
   "mimetype": "text/x-python",
   "name": "python",
   "nbconvert_exporter": "python",
   "pygments_lexer": "ipython3",
   "version": "3.8.6"
  }
 },
 "nbformat": 4,
 "nbformat_minor": 4
}
